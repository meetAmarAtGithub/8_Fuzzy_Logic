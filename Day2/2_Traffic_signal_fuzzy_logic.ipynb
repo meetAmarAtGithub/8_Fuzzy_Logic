{
  "nbformat": 4,
  "nbformat_minor": 0,
  "metadata": {
    "colab": {
      "provenance": [],
      "collapsed_sections": [],
      "authorship_tag": "ABX9TyOnEM5DEf9LIF9VfJHWOy8t",
      "include_colab_link": true
    },
    "kernelspec": {
      "name": "python3",
      "display_name": "Python 3"
    },
    "language_info": {
      "name": "python"
    }
  },
  "cells": [
    {
      "cell_type": "markdown",
      "metadata": {
        "id": "view-in-github",
        "colab_type": "text"
      },
      "source": [
        "<a href=\"https://colab.research.google.com/github/meetAmarAtGithub/8_Fuzzy_Logic/blob/main/Day2/2_Traffic_signal_fuzzy_logic.ipynb\" target=\"_parent\"><img src=\"https://colab.research.google.com/assets/colab-badge.svg\" alt=\"Open In Colab\"/></a>"
      ]
    },
    {
      "cell_type": "code",
      "source": [
        "!pip install scikit-fuzzy"
      ],
      "metadata": {
        "colab": {
          "base_uri": "https://localhost:8080/"
        },
        "id": "TyZLi8_1fvzE",
        "outputId": "8139fb81-7ae6-4f10-e2e4-5ea4900fa382"
      },
      "execution_count": null,
      "outputs": [
        {
          "output_type": "stream",
          "name": "stdout",
          "text": [
            "Looking in indexes: https://pypi.org/simple, https://us-python.pkg.dev/colab-wheels/public/simple/\n",
            "Collecting scikit-fuzzy\n",
            "  Downloading scikit-fuzzy-0.4.2.tar.gz (993 kB)\n",
            "\u001b[K     |████████████████████████████████| 993 kB 5.1 MB/s \n",
            "\u001b[?25hRequirement already satisfied: numpy>=1.6.0 in /usr/local/lib/python3.7/dist-packages (from scikit-fuzzy) (1.21.6)\n",
            "Requirement already satisfied: scipy>=0.9.0 in /usr/local/lib/python3.7/dist-packages (from scikit-fuzzy) (1.7.3)\n",
            "Requirement already satisfied: networkx>=1.9.0 in /usr/local/lib/python3.7/dist-packages (from scikit-fuzzy) (2.6.3)\n",
            "Building wheels for collected packages: scikit-fuzzy\n",
            "  Building wheel for scikit-fuzzy (setup.py) ... \u001b[?25l\u001b[?25hdone\n",
            "  Created wheel for scikit-fuzzy: filename=scikit_fuzzy-0.4.2-py3-none-any.whl size=894089 sha256=d6fda6e772371ab495d9698d4b823443a0e9ea3051ec3377f69a87d95d2dad42\n",
            "  Stored in directory: /root/.cache/pip/wheels/d5/74/fc/38588a3d2e3f34f74588e6daa3aa5b0a322bd6f9420a707131\n",
            "Successfully built scikit-fuzzy\n",
            "Installing collected packages: scikit-fuzzy\n",
            "Successfully installed scikit-fuzzy-0.4.2\n"
          ]
        }
      ]
    },
    {
      "cell_type": "code",
      "execution_count": null,
      "metadata": {
        "id": "NqP5iIZTfA2y"
      },
      "outputs": [],
      "source": [
        "#Alfebraic computation\n",
        "import numpy as np\n",
        "\n",
        "#For domain, linguistic \n",
        "import skfuzzy as fuzz\n",
        "\n",
        "#Fuzzy inference system\n",
        "from skfuzzy import control as ctrl"
      ]
    },
    {
      "cell_type": "code",
      "source": [
        "#Pedestrian density\n",
        "pedestrian = ctrl.Antecedent([0, 30], 'pedestrian')\n",
        "pedestrian.automf(3)\n",
        "\n",
        "#Traffic density\n",
        "traffic = ctrl.Antecedent([0 , 20], 'traffic')\n",
        "traffic.automf(3)"
      ],
      "metadata": {
        "id": "RNBkgcO6fmBA"
      },
      "execution_count": null,
      "outputs": []
    },
    {
      "cell_type": "code",
      "source": [
        "#New consequent object 0 - Red, 1 - Green\n",
        "light = ctrl.Consequent([0 , 1], 'Light')\n",
        "\n",
        "## Auto-membership function population is possible with .automf(3, 5, or 7)\n",
        "#pedestrian.automf(3)\n",
        "#traffic.automf(3)"
      ],
      "metadata": {
        "id": "7s2XUo0QgQ-G"
      },
      "execution_count": null,
      "outputs": []
    },
    {
      "cell_type": "code",
      "source": [
        "# Custom membership functions can be built interactively with a familiar,\n",
        "# Pythonic API\n",
        "light['Green'] = fuzz.trimf(light.universe, [0 , 0, 15])\n",
        "light['Green'] = fuzz.trimf(light.universe, [0, 15 , 30])\n",
        "light['Red'] = fuzz.trimf(light.universe, [15, 15, 30])"
      ],
      "metadata": {
        "id": "6tNza4UZUeC6"
      },
      "execution_count": null,
      "outputs": []
    },
    {
      "cell_type": "code",
      "source": [
        "rule1 = ctrl.Rule(pedestrian['poor'] | traffic['poor'], light['Green'])\n",
        "rule2 = ctrl.Rule(pedestrian['average'] | traffic['poor'], light['Red'])\n",
        "rule3 = ctrl.Rule(pedestrian['good'] | traffic['poor'], light['Red'])\n",
        "rule4 = ctrl.Rule(pedestrian['poor'] | traffic['average'], light['Green'])\n",
        "rule5 = ctrl.Rule(pedestrian['poor'] | traffic['good'], light['Green'])"
      ],
      "metadata": {
        "id": "b4WslGB1Z5JP"
      },
      "execution_count": null,
      "outputs": []
    },
    {
      "cell_type": "code",
      "source": [
        "pedestrian['average'].view()"
      ],
      "metadata": {
        "colab": {
          "base_uri": "https://localhost:8080/",
          "height": 281
        },
        "id": "cq-Tj-S_iZ9v",
        "outputId": "7fdd48c0-cac3-444a-8e00-e64105788cb8"
      },
      "execution_count": null,
      "outputs": [
        {
          "output_type": "display_data",
          "data": {
            "text/plain": [
              "<Figure size 432x288 with 1 Axes>"
            ],
            "image/png": "[encoded data removed]"
          },
          "metadata": {
            "needs_background": "light"
          }
        }
      ]
    },
    {
      "cell_type": "code",
      "source": [
        "rule1.view()"
      ],
      "metadata": {
        "colab": {
          "base_uri": "https://localhost:8080/",
          "height": 283
        },
        "id": "-4lrGvq8kpzk",
        "outputId": "04cfa3cf-fe90-4a7b-855b-79fe17c417f8"
      },
      "execution_count": null,
      "outputs": [
        {
          "output_type": "execute_result",
          "data": {
            "text/plain": [
              "(<Figure size 432x288 with 1 Axes>,\n",
              " <matplotlib.axes._subplots.AxesSubplot at 0x7efe1fcbe290>)"
            ]
          },
          "metadata": {},
          "execution_count": 41
        },
        {
          "output_type": "display_data",
          "data": {
            "text/plain": [
              "<Figure size 432x288 with 1 Axes>"
            ],
            "image/png": "[encoded data removed]"
          },
          "metadata": {}
        }
      ]
    },
    {
      "cell_type": "code",
      "source": [
        "traffic_ctrl = ctrl.ControlSystem([rule1, rule2, rule3, rule4, rule5])"
      ],
      "metadata": {
        "id": "LmBLnLD9lhaB"
      },
      "execution_count": null,
      "outputs": []
    },
    {
      "cell_type": "code",
      "source": [
        "traffic_light = ctrl.ControlSystemSimulation(traffic_ctrl)"
      ],
      "metadata": {
        "id": "AwI78hf_lxOt"
      },
      "execution_count": null,
      "outputs": []
    },
    {
      "cell_type": "code",
      "source": [
        "traffic_light.input['pedestrian'] = 9\n",
        "traffic_light.input['traffic'] = 15\n",
        "\n",
        "# Crunch the numbers\n",
        "traffic_light.compute()"
      ],
      "metadata": {
        "id": "Vlmms0Jdl6bV"
      },
      "execution_count": null,
      "outputs": []
    },
    {
      "cell_type": "code",
      "source": [
        "print(traffic_light.output['Light'])"
      ],
      "metadata": {
        "colab": {
          "base_uri": "https://localhost:8080/"
        },
        "id": "XDFoSVUPmLni",
        "outputId": "6ede7db2-6514-4e69-8ff8-12920050ddd0"
      },
      "execution_count": null,
      "outputs": [
        {
          "output_type": "stream",
          "name": "stdout",
          "text": [
            "0.6666666666666666\n"
          ]
        }
      ]
    },
    {
      "cell_type": "code",
      "source": [
        "light.view(sim=traffic_light)"
      ],
      "metadata": {
        "colab": {
          "base_uri": "https://localhost:8080/",
          "height": 281
        },
        "id": "_Y1wv7yemUwJ",
        "outputId": "54ab195e-6360-4a80-891f-7c5b90d35efd"
      },
      "execution_count": null,
      "outputs": [
        {
          "output_type": "display_data",
          "data": {
            "text/plain": [
              "<Figure size 432x288 with 1 Axes>"
            ],
            "image/png": "[encoded data removed]"
          },
          "metadata": {
            "needs_background": "light"
          }
        }
      ]
    }
  ]
}